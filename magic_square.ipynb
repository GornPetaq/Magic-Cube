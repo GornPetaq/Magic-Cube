{
 "cells": [
  {
   "cell_type": "code",
   "execution_count": 1,
   "id": "56be1aa7-547d-4a2f-b79c-adce69ee9924",
   "metadata": {},
   "outputs": [],
   "source": [
    "import highspy"
   ]
  },
  {
   "cell_type": "code",
   "execution_count": 2,
   "id": "0abe23bf-13a9-4849-b25e-491dd25d587a",
   "metadata": {},
   "outputs": [],
   "source": [
    "highs = highspy.Highs()"
   ]
  },
  {
   "cell_type": "code",
   "execution_count": 3,
   "id": "9f864a75-7bb2-49f7-a92d-919fbaabeaa0",
   "metadata": {},
   "outputs": [],
   "source": [
    "n = 6"
   ]
  },
  {
   "cell_type": "code",
   "execution_count": 4,
   "id": "5bd2e388-aadb-492f-9711-a70b5dca673e",
   "metadata": {},
   "outputs": [],
   "source": [
    "# array of vars n x n x n^2\n",
    "vars = {}\n",
    "for i in range(n):\n",
    "    vars[i] = {}\n",
    "    for j in range(n):\n",
    "        vars[i][j] = {}\n",
    "        for k in range(1,n**2 + 1):\n",
    "            vars[i][j][k] = highs.addBinary(name = f\"{i};{j};{k}\")"
   ]
  },
  {
   "cell_type": "code",
   "execution_count": 5,
   "id": "8e88f3e5-b453-494e-a8cd-88416bb93d23",
   "metadata": {},
   "outputs": [],
   "source": [
    "for i in range(n):\n",
    "    for j in range(n):\n",
    "        form = 0\n",
    "        for k in range(1,n**2 + 1):\n",
    "            form += vars[i][j][k]\n",
    "        highs.addConstr(1 <= form <= 1)"
   ]
  },
  {
   "cell_type": "code",
   "execution_count": 6,
   "id": "6fab35fd-0814-48ae-8bf5-f158156689c7",
   "metadata": {},
   "outputs": [],
   "source": [
    "for k in range(1,n**2 + 1):\n",
    "    form = 0\n",
    "    for i in range(n):\n",
    "        for j in range(n):\n",
    "            form += vars[i][j][k]\n",
    "    highs.addConstr(1 <= form <= 1)"
   ]
  },
  {
   "cell_type": "code",
   "execution_count": 7,
   "id": "7840dfa7-ff18-454a-b865-f713b907e075",
   "metadata": {},
   "outputs": [],
   "source": [
    "nums = {}\n",
    "for i in range(n):\n",
    "    nums[i] = {}\n",
    "    for j in range(n):\n",
    "        form = 0\n",
    "        for k in range(1,n**2 + 1):\n",
    "            form += vars[i][j][k] * k\n",
    "        nums[i][j] = form"
   ]
  },
  {
   "cell_type": "code",
   "execution_count": 8,
   "id": "5de1f604-599c-4fbe-801d-d2eb2ee0dfcf",
   "metadata": {},
   "outputs": [
    {
     "name": "stdout",
     "output_type": "stream",
     "text": [
      "111\n"
     ]
    }
   ],
   "source": [
    "s = n*(n**2 + 1)//2\n",
    "print(s)\n",
    "s1 = s \n",
    "s2= s "
   ]
  },
  {
   "cell_type": "code",
   "execution_count": 9,
   "id": "98f4b86b-de1c-42d1-9823-e180d0ce93df",
   "metadata": {},
   "outputs": [],
   "source": [
    "for i in range(n):\n",
    "    form1 = highspy.highs.highs_linear_expression()\n",
    "    # form2 = 0\n",
    "    for j in range(n):\n",
    "        form1 += nums[i][j]\n",
    "        # form2 += nums[j][i]\n",
    "    highs.addConstr(s1 <= form1 <= s2, name = f\"{i}hor\")\n",
    "    # highs.addConstr(s1 <= form2 <= s2)\n",
    "for i in range(n):\n",
    "    # form1 = 0\n",
    "    form2 = highspy.highs.highs_linear_expression()\n",
    "    for j in range(n):\n",
    "        # form1 += nums[i][j]\n",
    "        form2 += nums[j][i]\n",
    "    # highs.addConstr(s1 <= form1 <= s2)\n",
    "    highs.addConstr(s1 <= form2 <= s2, name = f\"{i}vert\")"
   ]
  },
  {
   "cell_type": "code",
   "execution_count": 10,
   "id": "f9466b42-cfed-48be-ac13-006214ac69a2",
   "metadata": {},
   "outputs": [
    {
     "data": {
      "text/plain": [
       "diag2"
      ]
     },
     "execution_count": 10,
     "metadata": {},
     "output_type": "execute_result"
    }
   ],
   "source": [
    "form1 = 0\n",
    "# form2 = 0\n",
    "for i in range(n):\n",
    "    form1 += nums[i][i]\n",
    "    # form2 += nums[i][n-1-i]\n",
    "highs.addConstr(s1 <= form1 <= s2, name=\"diag1\")\n",
    "# highs.addConstr(s1 <= form2 <= s2)\n",
    "# form1 = 0\n",
    "form2 = 0\n",
    "for i in range(n):\n",
    "    # form1 += nums[i][i]\n",
    "    form2 += nums[i][n-1-i]\n",
    "# highs.addConstr(s1 <= form1 <= s2)\n",
    "highs.addConstr(s1 <= form2 <= s2, name=\"diag2\")"
   ]
  },
  {
   "cell_type": "code",
   "execution_count": 11,
   "id": "fd0bb14a-c85a-4256-87be-ccec015628ee",
   "metadata": {},
   "outputs": [
    {
     "data": {
      "text/plain": [
       "<HighsStatus.kOk: 0>"
      ]
     },
     "execution_count": 11,
     "metadata": {},
     "output_type": "execute_result"
    }
   ],
   "source": [
    "highs.solve()"
   ]
  },
  {
   "cell_type": "code",
   "execution_count": 12,
   "id": "1f98cfc4-45b4-4103-ae0c-0effe5b42d48",
   "metadata": {},
   "outputs": [
    {
     "name": "stdout",
     "output_type": "stream",
     "text": [
      "Model status =  Optimal\n",
      "Optimal objective =  0.0\n",
      "Iteration count =  4076385\n",
      "Primal solution status =  Feasible\n",
      "Dual solution status =  None\n",
      "Basis validity =  Not valid\n"
     ]
    }
   ],
   "source": [
    "h = highs\n",
    "solution = h.getSolution()\n",
    "basis = h.getBasis()\n",
    "info = h.getInfo()\n",
    "model_status = h.getModelStatus()\n",
    "print('Model status = ', h.modelStatusToString(model_status))\n",
    "print('Optimal objective = ', info.objective_function_value)\n",
    "print('Iteration count = ', info.simplex_iteration_count)\n",
    "print('Primal solution status = ', h.solutionStatusToString(info.primal_solution_status))\n",
    "print('Dual solution status = ', h.solutionStatusToString(info.dual_solution_status))\n",
    "print('Basis validity = ', h.basisValidityToString(info.basis_validity))"
   ]
  },
  {
   "cell_type": "code",
   "execution_count": 13,
   "id": "b212baee-fc9c-46fb-bedf-d7431df5c662",
   "metadata": {},
   "outputs": [],
   "source": [
    "# highs.writeModel(\"model2.lp\")"
   ]
  },
  {
   "cell_type": "code",
   "execution_count": 14,
   "id": "a72610a3-65db-4177-9377-008dd9624d92",
   "metadata": {},
   "outputs": [
    {
     "name": "stdout",
     "output_type": "stream",
     "text": [
      "[6, 15, 24, 30, 23, 13]\n",
      "[17, 31, 25, 8, 1, 29]\n",
      "[11, 7, 22, 36, 14, 21]\n",
      "[19, 9, 2, 20, 27, 34]\n",
      "[32, 33, 3, 5, 28, 10]\n",
      "[26, 16, 35, 12, 18, 4]\n"
     ]
    }
   ],
   "source": [
    "ans = []\n",
    "for i in range(n):\n",
    "    templist = []\n",
    "    for j in range(n):\n",
    "        val = 0\n",
    "        sol= highs.getSolution()\n",
    "        for k in range(1,n**2 + 1):\n",
    "            # print(highs.getColByName(f\"{i};{j};{k}\"))\n",
    "            if sol.col_value[highs.getColByName(f\"{i};{j};{k}\")[1]] > 0.5:\n",
    "                val = k\n",
    "        templist.append(val)\n",
    "    ans.append(templist)\n",
    "for l in ans:\n",
    "    print(l)"
   ]
  }
 ],
 "metadata": {
  "kernelspec": {
   "display_name": "Python 3 (ipykernel)",
   "language": "python",
   "name": "python3"
  },
  "language_info": {
   "codemirror_mode": {
    "name": "ipython",
    "version": 3
   },
   "file_extension": ".py",
   "mimetype": "text/x-python",
   "name": "python",
   "nbconvert_exporter": "python",
   "pygments_lexer": "ipython3",
   "version": "3.10.6"
  }
 },
 "nbformat": 4,
 "nbformat_minor": 5
}
